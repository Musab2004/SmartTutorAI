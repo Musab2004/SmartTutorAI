{
 "cells": [
  {
   "cell_type": "code",
   "execution_count": 9,
   "id": "3bab1a48",
   "metadata": {},
   "outputs": [
    {
     "name": "stdout",
     "output_type": "stream",
     "text": [
      "Defaulting to user installation because normal site-packages is not writeable\n",
      "Requirement already satisfied: opencv-contrib-python in /home/musab/.local/lib/python3.10/site-packages (4.6.0.66)\n",
      "Requirement already satisfied: numpy>=1.21.2 in /usr/lib/python3/dist-packages (from opencv-contrib-python) (1.21.5)\n"
     ]
    },
    {
     "name": "stderr",
     "output_type": "stream",
     "text": [
      "Warning: Ignoring XDG_SESSION_TYPE=wayland on Gnome. Use QT_QPA_PLATFORM=wayland to run on Wayland anyway.\n"
     ]
    },
    {
     "ename": "KeyboardInterrupt",
     "evalue": "",
     "output_type": "error",
     "traceback": [
      "\u001b[0;31m---------------------------------------------------------------------------\u001b[0m",
      "\u001b[0;31mKeyboardInterrupt\u001b[0m                         Traceback (most recent call last)",
      "Cell \u001b[0;32mIn[9], line 37\u001b[0m\n\u001b[1;32m     35\u001b[0m     cv2\u001b[38;5;241m.\u001b[39mimshow(\u001b[38;5;124m\"\u001b[39m\u001b[38;5;124mframe\u001b[39m\u001b[38;5;124m\"\u001b[39m, frame)  \n\u001b[1;32m     36\u001b[0m     \u001b[38;5;66;03m#The string 'q' is will be used for stopping and quiting  \u001b[39;00m\n\u001b[0;32m---> 37\u001b[0m     \u001b[38;5;28;01mif\u001b[39;00m \u001b[43mcv2\u001b[49m\u001b[38;5;241;43m.\u001b[39;49m\u001b[43mwaitKey\u001b[49m\u001b[43m(\u001b[49m\u001b[38;5;241;43m1\u001b[39;49m\u001b[43m)\u001b[49m\u001b[38;5;241m==\u001b[39m\u001b[38;5;28mord\u001b[39m(\u001b[38;5;124m\"\u001b[39m\u001b[38;5;124mq\u001b[39m\u001b[38;5;124m\"\u001b[39m):  \n\u001b[1;32m     38\u001b[0m         \u001b[38;5;28;01mbreak\u001b[39;00m  \n\u001b[1;32m     39\u001b[0m cap\u001b[38;5;241m.\u001b[39mrelease()  \n",
      "\u001b[0;31mKeyboardInterrupt\u001b[0m: "
     ]
    }
   ],
   "source": [
    "!pip install opencv-contrib-python \n",
    "import cv2  \n",
    "  \n",
    "# This is the distance from camera to face object  \n",
    "DECLARED_LEN = 30 # cm  \n",
    "# width of the object face  \n",
    "DECLARED_WID = 14.3 # cm  \n",
    "# Definition of the RGB Colors format \n",
    "GREEN = (0, 255, 0)  \n",
    "RED = (255, 0, 0)  \n",
    "WHITE = (255, 255, 255)\n",
    "#Defining the fonts family, size, type  \n",
    "fonts = cv2.FONT_HERSHEY_COMPLEX  \n",
    "# calling the haarcascade_frontalface_default.xml module for face detection.  \n",
    "face_detector = cv2.CascadeClassifier(\"/home/musab/Downloads/haarcascade_frontalface_default.xml\")  \n",
    "  \n",
    "  \n",
    "def face_data(image):  \n",
    "  \n",
    "    face_width = 0  \n",
    "    gray_image = cv2.cvtColor(image, cv2.COLOR_BGR2GRAY)  \n",
    "    #We use 1.3 for less powerful processors but can increase it according to your processing power of your machine.\n",
    "    faces = face_detector.detectMultiScale(gray_image, 1.3, 5) \n",
    "    #getting the rectangular frame \n",
    "    for (x, y, h, w) in faces:  \n",
    "        cv2.rectangle(image, (x, y), (x + w, y + h), WHITE, 1)  \n",
    "        face_width = w  \n",
    "  \n",
    "    return face_width  \n",
    "#We use 0 in the VideoCapture function since that calls the default camera, the webcam.  \n",
    "cap = cv2.VideoCapture(0)  \n",
    "while True:  \n",
    "    _, frame = cap.read()  \n",
    "    face_width_in_frame = face_data(frame)  \n",
    "    cv2.imshow(\"frame\", frame)  \n",
    "    #The string 'q' is will be used for stopping and quiting  \n",
    "    if cv2.waitKey(1)==ord(\"q\"):  \n",
    "        break  \n",
    "cap.release()  \n",
    "cv2.destroyAllWindows()"
   ]
  },
  {
   "cell_type": "code",
   "execution_count": 28,
   "id": "6fb33565",
   "metadata": {},
   "outputs": [],
   "source": [
    "def focal_length(determined_distance, actual_width, width_in_rf_image):  \n",
    "    focal_length_value = (width_in_rf_image * determined_distance) / actual_width  \n",
    "    return focal_length_value\n",
    "def Distance_finder(focal_length, real_face_width, face_width_in_frame):  \n",
    "    distance = (real_face_width * focal_length) / face_width_in_frame  \n",
    "    return distance\n",
    "def averageFinder(completeList, averageOfItems):  \n",
    "    lengthOfList = len(completeList)  \n",
    "    selectedItems = lengthOfList - averageOfItems  \n",
    "    selectedItemsList = completeList[selectedItems:]  \n",
    "    average = sum(selectedItemsList) / len(selectedItemsList)  \n",
    "  \n",
    "    return average\n",
    "def speedFinder(coveredDistance, timeTaken):  \n",
    "  \n",
    "    speed = coveredDistance / timeTaken  \n",
    "  \n",
    "    return speed\n"
   ]
  },
  {
   "cell_type": "code",
   "execution_count": 31,
   "id": "2d743496",
   "metadata": {},
   "outputs": [
    {
     "ename": "NameError",
     "evalue": "name 'ref_image_face_width' is not defined",
     "output_type": "error",
     "traceback": [
      "\u001b[0;31m---------------------------------------------------------------------------\u001b[0m",
      "\u001b[0;31mNameError\u001b[0m                                 Traceback (most recent call last)",
      "Cell \u001b[0;32mIn[31], line 8\u001b[0m\n\u001b[1;32m      6\u001b[0m   \u001b[38;5;66;03m# finding the distance by calling function Distance  \u001b[39;00m\n\u001b[1;32m      7\u001b[0m \u001b[38;5;28;01mif\u001b[39;00m face_width_in_frame \u001b[38;5;241m!=\u001b[39m \u001b[38;5;241m0\u001b[39m:\n\u001b[0;32m----> 8\u001b[0m       Focal_length_found \u001b[38;5;241m=\u001b[39m focal_length(DECLARED_LEN, DECLARED_WID, \u001b[43mref_image_face_width\u001b[49m)  \n\u001b[1;32m      9\u001b[0m       Distance \u001b[38;5;241m=\u001b[39m Distance_finder(  \n\u001b[1;32m     10\u001b[0m           Focal_length_found, DECLARED_WID, face_width_in_frame)  \n\u001b[1;32m     11\u001b[0m       listDistance\u001b[38;5;241m.\u001b[39mappend(Distance)  \n",
      "\u001b[0;31mNameError\u001b[0m: name 'ref_image_face_width' is not defined"
     ]
    }
   ],
   "source": [
    "while True:  \n",
    "  _, frame = cap.read()  \n",
    "  \n",
    "    # calling face_data function  \n",
    "  face_width_in_frame = face_data(frame)  \n",
    "    # finding the distance by calling function Distance  \n",
    "  if face_width_in_frame != 0:\n",
    "        Focal_length_found = focal_length(DECLARED_LEN, DECLARED_WID, ref_image_face_width)  \n",
    "        Distance = Distance_finder(  \n",
    "            Focal_length_found, DECLARED_WID, face_width_in_frame)  \n",
    "        listDistance.append(Distance)  \n",
    "        averageDistance = averageFinder(listDistance, 2)  \n",
    "  \n",
    "        # converting centimeters into meters  \n",
    "  distanceInMeters = averageDistance/100  \n",
    "  \n",
    "  if initialDistance != 0:  \n",
    "#     pass\n",
    "            # getting the  difference of the distances  \n",
    "            changeInDistance = initialDistance - distanceInMeters  \n",
    "            changeInTime = time.time() - initialTime  \n",
    "  \n",
    "            # calculating the speed  \n",
    "            speed = speedFinder(  \n",
    "                coveredDistance=changeInDistance, timeTaken=changeInTime)  \n",
    "            listSpeed.append(speed)  \n",
    "            averageSpeed = averageFinder(listSpeed, 10)  \n",
    "            if averageSpeed < 0:  \n",
    "                averageSpeed = averageSpeed * -1  \n",
    "  # filling the progressive line dependent on the speed.  \n",
    "            speedFill = int(45+(averageSpeed) * 130)  \n",
    "            if speedFill > 235:  \n",
    "                speedFill = 235  \n",
    "            cv2.line(frame, (45, 70), (235, 70), (0, 255, 0), 35)  \n",
    "                        # speed dependent line  \n",
    "            cv2.line(frame, (45, 70), (speedFill, 70), (255, 255, 0), 32)  \n",
    "            cv2.line(frame, (45, 70), (235, 70), (0, 0, 0), 22)  \n",
    "                        # print()  \n",
    "            cv2.putText(  \n",
    "                            frame, f\"Speed: {round(averageSpeed, 2)} m/s\", (50, 75), fonts, 0.6, (0, 255, 220), 2)  \n",
    "\n",
    "                        # print(speed)    \n",
    "            initialTime = time.time()  \n",
    "\n",
    "                # Writing Text on the displaying screen  \n",
    "            cv2.line(frame, (45, 25), (255, 25), (255, 0, 255), 30)  \n",
    "            cv2.line(frame, (45, 25), (255, 25), (0, 0, 0), 22)  \n",
    "            cv2.putText(  \n",
    "                        frame, f\"Distance = {round(distanceInMeters,2)} m\", (50, 30), fonts, 0.6, WHITE, 2)  \n",
    "                # recording the video  \n",
    "            Recorder.write(frame)  \n",
    "            cv2.imshow(\"frame\", frame)  \n",
    "            if cv2.waitKey(1) == ord(\"q\"):  \n",
    "                break\n"
   ]
  },
  {
   "cell_type": "code",
   "execution_count": 1,
   "id": "51d6d9cc",
   "metadata": {},
   "outputs": [
    {
     "name": "stderr",
     "output_type": "stream",
     "text": [
      "Warning: Ignoring XDG_SESSION_TYPE=wayland on Gnome. Use QT_QPA_PLATFORM=wayland to run on Wayland anyway.\n"
     ]
    },
    {
     "ename": "KeyboardInterrupt",
     "evalue": "",
     "output_type": "error",
     "traceback": [
      "\u001b[0;31m---------------------------------------------------------------------------\u001b[0m",
      "\u001b[0;31mKeyboardInterrupt\u001b[0m                         Traceback (most recent call last)",
      "Cell \u001b[0;32mIn[1], line 74\u001b[0m\n\u001b[1;32m     72\u001b[0m \u001b[38;5;66;03m# Show the frame\u001b[39;00m\n\u001b[1;32m     73\u001b[0m cv2\u001b[38;5;241m.\u001b[39mimshow(\u001b[38;5;124m\"\u001b[39m\u001b[38;5;124mFrame\u001b[39m\u001b[38;5;124m\"\u001b[39m, frame)\n\u001b[0;32m---> 74\u001b[0m key \u001b[38;5;241m=\u001b[39m \u001b[43mcv2\u001b[49m\u001b[38;5;241;43m.\u001b[39;49m\u001b[43mwaitKey\u001b[49m\u001b[43m(\u001b[49m\u001b[38;5;241;43m1\u001b[39;49m\u001b[43m)\u001b[49m \u001b[38;5;241m&\u001b[39m \u001b[38;5;241m0xFF\u001b[39m\n\u001b[1;32m     76\u001b[0m \u001b[38;5;66;03m# Exit if the 'q' key is pressed\u001b[39;00m\n\u001b[1;32m     77\u001b[0m \u001b[38;5;28;01mif\u001b[39;00m key \u001b[38;5;241m==\u001b[39m \u001b[38;5;28mord\u001b[39m(\u001b[38;5;124m\"\u001b[39m\u001b[38;5;124mq\u001b[39m\u001b[38;5;124m\"\u001b[39m):\n",
      "\u001b[0;31mKeyboardInterrupt\u001b[0m: "
     ]
    }
   ],
   "source": [
    "from collections import deque\n",
    "from imutils.video import VideoStream\n",
    "import numpy as np\n",
    "import cv2\n",
    "import imutils\n",
    "import time\n",
    "\n",
    "# Known parameters\n",
    "known_ball_diameter_cm = 5  # in centimeters\n",
    "focal_length_pixels = 500\n",
    "\n",
    "# Define the lower and upper boundaries of the \"green\" ball in the HSV color space\n",
    "greenLower = (29, 86, 6)\n",
    "greenUpper = (64, 255, 255)\n",
    "pts = deque(maxlen=64)  # Set a default buffer size\n",
    "\n",
    "# Start the video stream from the webcam\n",
    "vs = VideoStream(src=0).start()\n",
    "time.sleep(2.0)  # Allow the camera to warm up\n",
    "\n",
    "while True:\n",
    "    # Grab the current frame\n",
    "    frame = vs.read()\n",
    "\n",
    "    # Resize the frame, blur it, and convert it to the HSV color space\n",
    "    frame = imutils.resize(frame, width=600)\n",
    "    blurred = cv2.GaussianBlur(frame, (11, 11), 0)\n",
    "    hsv = cv2.cvtColor(blurred, cv2.COLOR_BGR2HSV)\n",
    "\n",
    "    # Construct a mask for the color \"green\"\n",
    "    mask = cv2.inRange(hsv, greenLower, greenUpper)\n",
    "    mask = cv2.erode(mask, None, iterations=2)\n",
    "    mask = cv2.dilate(mask, None, iterations=2)\n",
    "\n",
    "    # Find contours in the mask\n",
    "    cnts = cv2.findContours(mask.copy(), cv2.RETR_EXTERNAL, cv2.CHAIN_APPROX_SIMPLE)\n",
    "    cnts = imutils.grab_contours(cnts)\n",
    "    center = None\n",
    "\n",
    "    # Only proceed if at least one contour was found\n",
    "    if len(cnts) > 0:\n",
    "        # Find the largest contour in the mask\n",
    "        c = max(cnts, key=cv2.contourArea)\n",
    "        ((x, y), radius) = cv2.minEnclosingCircle(c)\n",
    "        M = cv2.moments(c)\n",
    "        center = (int(M[\"m10\"] / M[\"m00\"]), int(M[\"m01\"] / M[\"m00\"]))\n",
    "\n",
    "        # Only proceed if the radius meets a minimum size\n",
    "        if radius > 10:\n",
    "            # Draw the circle and centroid on the frame\n",
    "            cv2.circle(frame, (int(x), int(y)), int(radius), (0, 255, 255), 2)\n",
    "            cv2.circle(frame, center, 5, (0, 0, 255), -1)\n",
    "\n",
    "            # Calculate distance to the ball\n",
    "            apparent_diameter_pixels = int(radius * 2)\n",
    "            distance_cm = (known_ball_diameter_cm * focal_length_pixels) / apparent_diameter_pixels\n",
    "            distance_text = f\"Distance: {distance_cm:.2f} cm\"\n",
    "\n",
    "            # Display distance text on the frame\n",
    "            cv2.putText(frame, distance_text, (20, 50), cv2.FONT_HERSHEY_SIMPLEX, 1, (255, 255, 255), 2, cv2.LINE_AA)\n",
    "\n",
    "    # Update the points queue\n",
    "    pts.appendleft(center)\n",
    "\n",
    "    # Loop over the set of tracked points\n",
    "    for i in range(1, len(pts)):\n",
    "        if pts[i - 1] is None or pts[i] is None:\n",
    "            continue\n",
    "        thickness = int(np.sqrt(64 / float(i + 1)) * 2.5)\n",
    "        cv2.line(frame, pts[i - 1], pts[i], (0, 0, 255), thickness)\n",
    "\n",
    "    # Show the frame\n",
    "    cv2.imshow(\"Frame\", frame)\n",
    "    key = cv2.waitKey(1) & 0xFF\n",
    "\n",
    "    # Exit if the 'q' key is pressed\n",
    "    if key == ord(\"q\"):\n",
    "        break\n",
    "\n",
    "# Release the camera and close all windows\n",
    "vs.stop()\n",
    "cv2.destroyAllWindows()\n"
   ]
  },
  {
   "cell_type": "code",
   "execution_count": 8,
   "id": "8c1a76e1",
   "metadata": {},
   "outputs": [
    {
     "name": "stdout",
     "output_type": "stream",
     "text": [
      "User creation failed. Status code: 400\n"
     ]
    }
   ],
   "source": [
    "import requests\n",
    "\n",
    "url = 'http://localhost:8000/api/users/'  # Replace with your endpoint\n",
    "data = {\n",
    "    'name': 'John Doe',\n",
    "    'email_address': 'johndoe@example.com',\n",
    "    'location': 'New York',\n",
    "    'current_academic_level': 'Graduate',\n",
    "    # Include other required fields for user creation as needed\n",
    "}\n",
    "\n",
    "response = requests.post(url, data=data)\n",
    "\n",
    "if response.status_code == 201:  # 201: Created\n",
    "    print(\"User created successfully!\")\n",
    "else:\n",
    "    print(\"User creation failed. Status code:\", response.status_code)\n"
   ]
  }
 ],
 "metadata": {
  "kernelspec": {
   "display_name": "Python 3 (ipykernel)",
   "language": "python",
   "name": "python3"
  },
  "language_info": {
   "codemirror_mode": {
    "name": "ipython",
    "version": 3
   },
   "file_extension": ".py",
   "mimetype": "text/x-python",
   "name": "python",
   "nbconvert_exporter": "python",
   "pygments_lexer": "ipython3",
   "version": "3.10.12"
  }
 },
 "nbformat": 4,
 "nbformat_minor": 5
}
