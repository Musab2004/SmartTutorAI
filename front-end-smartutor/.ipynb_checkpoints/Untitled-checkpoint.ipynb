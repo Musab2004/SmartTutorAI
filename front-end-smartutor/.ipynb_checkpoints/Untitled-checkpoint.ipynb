{
 "cells": [
  {
   "cell_type": "code",
   "execution_count": 9,
   "id": "bba3161e",
   "metadata": {},
   "outputs": [
    {
     "name": "stdout",
     "output_type": "stream",
     "text": [
      "Defaulting to user installation because normal site-packages is not writeable\n",
      "Requirement already satisfied: opencv-contrib-python in /home/musab/.local/lib/python3.10/site-packages (4.6.0.66)\n",
      "Requirement already satisfied: numpy>=1.21.2 in /usr/lib/python3/dist-packages (from opencv-contrib-python) (1.21.5)\n"
     ]
    },
    {
     "name": "stderr",
     "output_type": "stream",
     "text": [
      "Warning: Ignoring XDG_SESSION_TYPE=wayland on Gnome. Use QT_QPA_PLATFORM=wayland to run on Wayland anyway.\n"
     ]
    },
    {
     "ename": "KeyboardInterrupt",
     "evalue": "",
     "output_type": "error",
     "traceback": [
      "\u001b[0;31m---------------------------------------------------------------------------\u001b[0m",
      "\u001b[0;31mKeyboardInterrupt\u001b[0m                         Traceback (most recent call last)",
      "Cell \u001b[0;32mIn[9], line 37\u001b[0m\n\u001b[1;32m     35\u001b[0m     cv2\u001b[38;5;241m.\u001b[39mimshow(\u001b[38;5;124m\"\u001b[39m\u001b[38;5;124mframe\u001b[39m\u001b[38;5;124m\"\u001b[39m, frame)  \n\u001b[1;32m     36\u001b[0m     \u001b[38;5;66;03m#The string 'q' is will be used for stopping and quiting  \u001b[39;00m\n\u001b[0;32m---> 37\u001b[0m     \u001b[38;5;28;01mif\u001b[39;00m \u001b[43mcv2\u001b[49m\u001b[38;5;241;43m.\u001b[39;49m\u001b[43mwaitKey\u001b[49m\u001b[43m(\u001b[49m\u001b[38;5;241;43m1\u001b[39;49m\u001b[43m)\u001b[49m\u001b[38;5;241m==\u001b[39m\u001b[38;5;28mord\u001b[39m(\u001b[38;5;124m\"\u001b[39m\u001b[38;5;124mq\u001b[39m\u001b[38;5;124m\"\u001b[39m):  \n\u001b[1;32m     38\u001b[0m         \u001b[38;5;28;01mbreak\u001b[39;00m  \n\u001b[1;32m     39\u001b[0m cap\u001b[38;5;241m.\u001b[39mrelease()  \n",
      "\u001b[0;31mKeyboardInterrupt\u001b[0m: "
     ]
    }
   ],
   "source": [
    "!pip install opencv-contrib-python \n",
    "import cv2  \n",
    "  \n",
    "# This is the distance from camera to face object  \n",
    "DECLARED_LEN = 30 # cm  \n",
    "# width of the object face  \n",
    "DECLARED_WID = 14.3 # cm  \n",
    "# Definition of the RGB Colors format \n",
    "GREEN = (0, 255, 0)  \n",
    "RED = (255, 0, 0)  \n",
    "WHITE = (255, 255, 255)\n",
    "#Defining the fonts family, size, type  \n",
    "fonts = cv2.FONT_HERSHEY_COMPLEX  \n",
    "# calling the haarcascade_frontalface_default.xml module for face detection.  \n",
    "face_detector = cv2.CascadeClassifier(\"/home/musab/Downloads/haarcascade_frontalface_default.xml\")  \n",
    "  \n",
    "  \n",
    "def face_data(image):  \n",
    "  \n",
    "    face_width = 0  \n",
    "    gray_image = cv2.cvtColor(image, cv2.COLOR_BGR2GRAY)  \n",
    "    #We use 1.3 for less powerful processors but can increase it according to your processing power of your machine.\n",
    "    faces = face_detector.detectMultiScale(gray_image, 1.3, 5) \n",
    "    #getting the rectangular frame \n",
    "    for (x, y, h, w) in faces:  \n",
    "        cv2.rectangle(image, (x, y), (x + w, y + h), WHITE, 1)  \n",
    "        face_width = w  \n",
    "  \n",
    "    return face_width  \n",
    "#We use 0 in the VideoCapture function since that calls the default camera, the webcam.  \n",
    "cap = cv2.VideoCapture(0)  \n",
    "while True:  \n",
    "    _, frame = cap.read()  \n",
    "    face_width_in_frame = face_data(frame)  \n",
    "    cv2.imshow(\"frame\", frame)  \n",
    "    #The string 'q' is will be used for stopping and quiting  \n",
    "    if cv2.waitKey(1)==ord(\"q\"):  \n",
    "        break  \n",
    "cap.release()  \n",
    "cv2.destroyAllWindows()"
   ]
  },
  {
   "cell_type": "code",
   "execution_count": 16,
   "id": "7700fb84",
   "metadata": {},
   "outputs": [],
   "source": [
    "def focal_length(determined_distance, actual_width, width_in_rf_image):  \n",
    "    focal_length_value = (width_in_rf_image * determined_distance) / actual_width  \n",
    "    return focal_length_value\n",
    "def distance_finder(focal_length, real_face_width, face_width_in_frame):  \n",
    "    distance = (real_face_width * focal_length) / face_width_in_frame  \n",
    "    return distance\n",
    "def averageFinder(completeList, averageOfItems):  \n",
    "    lengthOfList = len(completeList)  \n",
    "    selectedItems = lengthOfList - averageOfItems  \n",
    "    selectedItemsList = completeList[selectedItems:]  \n",
    "    average = sum(selectedItemsList) / len(selectedItemsList)  \n",
    "  \n",
    "    return average\n",
    "def speedFinder(coveredDistance, timeTaken):  \n",
    "  \n",
    "    speed = coveredDistance / timeTaken  \n",
    "  \n",
    "    return speed\n"
   ]
  },
  {
   "cell_type": "code",
   "execution_count": 19,
   "id": "16d02056",
   "metadata": {},
   "outputs": [
    {
     "ename": "IndentationError",
     "evalue": "expected an indented block after 'if' statement on line 16 (313961230.py, line 18)",
     "output_type": "error",
     "traceback": [
      "\u001b[0;36m  Cell \u001b[0;32mIn[19], line 18\u001b[0;36m\u001b[0m\n\u001b[0;31m    changeInDistance = initialDistance - distanceInMeters\u001b[0m\n\u001b[0m    ^\u001b[0m\n\u001b[0;31mIndentationError\u001b[0m\u001b[0;31m:\u001b[0m expected an indented block after 'if' statement on line 16\n"
     ]
    }
   ],
   "source": [
    "while True:  \n",
    "  _, frame = cap.read()  \n",
    "  \n",
    "    # calling face_data function  \n",
    "  face_width_in_frame = face_data(frame)  \n",
    "    # finding the distance by calling function Distance  \n",
    "  if face_width_in_frame != 0:  \n",
    "        Distance = Distance_finder(  \n",
    "            Focal_length_found, DECLARED_WID, face_width_in_frame)  \n",
    "        listDistance.append(Distance)  \n",
    "        averageDistance = averageFinder(listDistance, 2)  \n",
    "  \n",
    "        # converting centimeters into meters  \n",
    "  distanceInMeters = averageDistance/100  \n",
    "  \n",
    "  if initialDistance != 0:  \n",
    "    pass;\n",
    "            # getting the  difference of the distances  \n",
    "  changeInDistance = initialDistance - distanceInMeters  \n",
    "  changeInTime = time.time() - initialTime  \n",
    "  \n",
    "            # calculating the speed  \n",
    "  speed = speedFinder(  \n",
    "                coveredDistance=changeInDistance, timeTaken=changeInTime)  \n",
    "            listSpeed.append(speed)  \n",
    "            averageSpeed = averageFinder(listSpeed, 10)  \n",
    "            if averageSpeed < 0:  \n",
    "                averageSpeed = averageSpeed * -1  \n",
    "  # filling the progressive line dependent on the speed.  \n",
    "  speedFill = int(45+(averageSpeed) * 130)  \n",
    "            if speedFill > 235:  \n",
    "                speedFill = 235  \n",
    "  cv2.line(frame, (45, 70), (235, 70), (0, 255, 0), 35)  \n",
    "            # speed dependent line  \n",
    "  cv2.line(frame, (45, 70), (speedFill, 70), (255, 255, 0), 32)  \n",
    "            cv2.line(frame, (45, 70), (235, 70), (0, 0, 0), 22)  \n",
    "            # print()  \n",
    "  cv2.putText(  \n",
    "                frame, f\"Speed: {round(averageSpeed, 2)} m/s\", (50, 75), fonts, 0.6, (0, 255, 220), 2)  \n",
    "  \n",
    "            # print(speed)    \n",
    "        initialTime = time.time()  \n",
    "  \n",
    "    # Writing Text on the displaying screen  \n",
    "  cv2.line(frame, (45, 25), (255, 25), (255, 0, 255), 30)  \n",
    "        cv2.line(frame, (45, 25), (255, 25), (0, 0, 0), 22)  \n",
    "        cv2.putText(  \n",
    "            frame, f\"Distance = {round(distanceInMeters,2)} m\", (50, 30), fonts, 0.6, WHITE, 2)  \n",
    "    # recording the video  \n",
    "  Recorder.write(frame)  \n",
    "    cv2.imshow(\"frame\", frame)  \n",
    "    if cv2.waitKey(1) == ord(\"q\"):  \n",
    "        break\n"
   ]
  }
 ],
 "metadata": {
  "kernelspec": {
   "display_name": "Python 3 (ipykernel)",
   "language": "python",
   "name": "python3"
  },
  "language_info": {
   "codemirror_mode": {
    "name": "ipython",
    "version": 3
   },
   "file_extension": ".py",
   "mimetype": "text/x-python",
   "name": "python",
   "nbconvert_exporter": "python",
   "pygments_lexer": "ipython3",
   "version": "3.10.12"
  }
 },
 "nbformat": 4,
 "nbformat_minor": 5
}
